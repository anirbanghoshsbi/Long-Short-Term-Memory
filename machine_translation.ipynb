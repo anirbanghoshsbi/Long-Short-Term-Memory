{
  "nbformat": 4,
  "nbformat_minor": 0,
  "metadata": {
    "colab": {
      "name": "machine_translation.ipynb",
      "version": "0.3.2",
      "provenance": [],
      "include_colab_link": true
    },
    "kernelspec": {
      "name": "python3",
      "display_name": "Python 3"
    }
  },
  "cells": [
    {
      "cell_type": "markdown",
      "metadata": {
        "id": "view-in-github",
        "colab_type": "text"
      },
      "source": [
        "<a href=\"https://colab.research.google.com/github/anirbanghoshsbi/Long-Short-Term-Memory/blob/master/machine_translation.ipynb\" target=\"_parent\"><img src=\"https://colab.research.google.com/assets/colab-badge.svg\" alt=\"Open In Colab\"/></a>"
      ]
    },
    {
      "metadata": {
        "id": "hLEArvNCTILp",
        "colab_type": "code",
        "outputId": "762e4aa2-d198-4b99-c993-35eda7da0b5a",
        "colab": {
          "base_uri": "https://localhost:8080/",
          "height": 68
        }
      },
      "cell_type": "code",
      "source": [
        "import string\n",
        "import re\n",
        "from pickle import dump\n",
        "from unicodedata import normalize\n",
        "from numpy import array\n",
        "\n",
        "# load doc into memory\n",
        "def load_doc(filename):\n",
        "\t# open the file as read only\n",
        "\tfile = open(filename, mode='rt', encoding='utf-8')\n",
        "\t# read all text\n",
        "\ttext = file.read()\n",
        "\t# close the file\n",
        "\tfile.close()\n",
        "\treturn text\n",
        "\n",
        "# split a loaded document into sentences\n",
        "def to_pairs(doc):\n",
        "\tlines = doc.strip().split('\\n')\n",
        "\tpairs = [line.split('\\t') for line in  lines]\n",
        "\treturn pairs\n",
        "\n",
        "# clean a list of lines\n",
        "def clean_pairs(lines):\n",
        "\tcleaned = list()\n",
        "\t# prepare regex for char filtering\n",
        "\tre_punc = re.compile('[%s]' % re.escape(string.punctuation))\n",
        "\tre_print = re.compile('[^%s]' % re.escape(string.printable))\n",
        "\tfor pair in lines:\n",
        "\t\tclean_pair = list()\n",
        "\t\tfor line in pair:\n",
        "\t\t\t# normalize unicode characters\n",
        "\t\t\tline = normalize('NFD', line).encode('ascii', 'ignore')\n",
        "\t\t\tline = line.decode('UTF-8')\n",
        "\t\t\t# tokenize on white space\n",
        "\t\t\tline = line.split()\n",
        "\t\t\t# convert to lowercase\n",
        "\t\t\tline = [word.lower() for word in line]\n",
        "\t\t\t# remove punctuation from each token\n",
        "\t\t\tline = [re_punc.sub('', w) for w in line]\n",
        "\t\t\t# remove non-printable chars form each token\n",
        "\t\t\tline = [re_print.sub('', w) for w in line]\n",
        "\t\t\t# remove tokens with numbers in them\n",
        "\t\t\tline = [word for word in line if word.isalpha()]\n",
        "\t\t\t# store as string\n",
        "\t\t\tclean_pair.append(' '.join(line))\n",
        "\t\tcleaned.append(clean_pair)\n",
        "\t#cleaned=array(cleaned)\n",
        "\t#cleaned = cleaned.reshape(cleaned.shape[0],1)\t\n",
        "\treturn cleaned\n",
        "\n",
        "# save a list of clean sentences to file\n",
        "def save_clean_data(sentences, filename):\n",
        "\tdump(sentences, open(filename, 'wb'))\n",
        "\tprint('Saved: %s' % filename)\n",
        "\n",
        "# load dataset\n",
        "filename = 'deu.txt'\n",
        "doc = load_doc(filename)\n",
        "# split into english-german pairs\n",
        "pairs = to_pairs(doc)\n",
        "# clean sentences\n",
        "clean_pairs_1 = clean_pairs(pairs)\n",
        "clean_pairs=np.array(clean_pairs_1)\n",
        "# save clean pairs to file\n",
        "save_clean_data(clean_pairs, 'english-german.pkl')\n",
        "# spot check\n",
        "for i in range(2):\n",
        "\tprint('[%s] => [%s]' % (clean_pairs[i,0], clean_pairs[i,1]))"
      ],
      "execution_count": 0,
      "outputs": [
        {
          "output_type": "stream",
          "text": [
            "Saved: english-german.pkl\n",
            "[hi] => [hallo]\n",
            "[hi] => [gru gott]\n"
          ],
          "name": "stdout"
        }
      ]
    },
    {
      "metadata": {
        "id": "E8q7Gj93UJ0L",
        "colab_type": "code",
        "outputId": "64e3195d-b754-4f82-8d12-2ff3533774d6",
        "colab": {
          "base_uri": "https://localhost:8080/",
          "height": 68
        }
      },
      "cell_type": "code",
      "source": [
        "from pickle import load\n",
        "from pickle import dump\n",
        "from numpy.random import shuffle\n",
        "\n",
        "# load a clean dataset\n",
        "def load_clean_sentences(filename):\n",
        "\treturn load(open(filename, 'rb'))\n",
        "\n",
        "# save a list of clean sentences to file\n",
        "def save_clean_data(sentences, filename):\n",
        "\tdump(sentences, open(filename, 'wb'))\n",
        "\tprint('Saved: %s' % filename)\n",
        "\n",
        "# load dataset\n",
        "raw_dataset = load_clean_sentences('english-german.pkl')\n",
        "\n",
        "# reduce dataset size\n",
        "n_sentences = 10000\n",
        "dataset = raw_dataset[:n_sentences, :]\n",
        "# random shuffle\n",
        "shuffle(dataset)\n",
        "# split into train/test\n",
        "train, test = dataset[:9000], dataset[9000:]\n",
        "# save\n",
        "save_clean_data(dataset, 'english-german-both.pkl')\n",
        "save_clean_data(train, 'english-german-train.pkl')\n",
        "save_clean_data(test, 'english-german-test.pkl')"
      ],
      "execution_count": 0,
      "outputs": [
        {
          "output_type": "stream",
          "text": [
            "Saved: english-german-both.pkl\n",
            "Saved: english-german-train.pkl\n",
            "Saved: english-german-test.pkl\n"
          ],
          "name": "stdout"
        }
      ]
    },
    {
      "metadata": {
        "id": "qK3mOTeiUJ2s",
        "colab_type": "code",
        "outputId": "eb2f76ee-ff4b-482d-8681-f260d64c9880",
        "colab": {
          "base_uri": "https://localhost:8080/",
          "height": 7001
        }
      },
      "cell_type": "code",
      "source": [
        "from pickle import load\n",
        "from numpy import array\n",
        "from keras.preprocessing.text import Tokenizer\n",
        "from keras.preprocessing.sequence import pad_sequences\n",
        "from keras.utils import to_categorical\n",
        "from keras.utils.vis_utils import plot_model\n",
        "from keras.models import Sequential\n",
        "from keras.layers import LSTM\n",
        "from keras.layers import Dense\n",
        "from keras.layers import Embedding\n",
        "from keras.layers import RepeatVector\n",
        "from keras.layers import TimeDistributed\n",
        "from keras.callbacks import ModelCheckpoint\n",
        "\n",
        "# load a clean dataset\n",
        "def load_clean_sentences(filename):\n",
        "\treturn load(open(filename, 'rb'))\n",
        "\n",
        "# fit a tokenizer\n",
        "def create_tokenizer(lines):\n",
        "\ttokenizer = Tokenizer()\n",
        "\ttokenizer.fit_on_texts(lines)\n",
        "\treturn tokenizer\n",
        "\n",
        "# max sentence length\n",
        "def max_length(lines):\n",
        "\treturn max(len(line.split()) for line in lines)\n",
        "\n",
        "# encode and pad sequences\n",
        "def encode_sequences(tokenizer, length, lines):\n",
        "\t# integer encode sequences\n",
        "\tX = tokenizer.texts_to_sequences(lines)\n",
        "\t# pad sequences with 0 values\n",
        "\tX = pad_sequences(X, maxlen=length, padding='post')\n",
        "\treturn X\n",
        "\n",
        "# one hot encode target sequence\n",
        "def encode_output(sequences, vocab_size):\n",
        "\tylist = list()\n",
        "\tfor sequence in sequences:\n",
        "\t\tencoded = to_categorical(sequence, num_classes=vocab_size)\n",
        "\t\tylist.append(encoded)\n",
        "\ty = array(ylist)\n",
        "\ty = y.reshape(sequences.shape[0], sequences.shape[1], vocab_size)\n",
        "\treturn y\n",
        "\n",
        "# define NMT model\n",
        "def define_model(src_vocab, tar_vocab, src_timesteps, tar_timesteps, n_units):\n",
        "\tmodel = Sequential()\n",
        "\tmodel.add(Embedding(src_vocab, n_units, input_length=src_timesteps, mask_zero=True))\n",
        "\tmodel.add(LSTM(n_units))\n",
        "\tmodel.add(RepeatVector(tar_timesteps))\n",
        "\tmodel.add(LSTM(n_units, return_sequences=True))\n",
        "\tmodel.add(TimeDistributed(Dense(tar_vocab, activation='softmax')))\n",
        "\t# compile model\n",
        "\tmodel.compile(optimizer='adam', loss='categorical_crossentropy')\n",
        "\t# summarize defined model\n",
        "\tmodel.summary()\n",
        "\tplot_model(model, to_file='model.png', show_shapes=True)\n",
        "\treturn model\n",
        "\n",
        "# load datasets\n",
        "dataset = load_clean_sentences('english-german-both.pkl')\n",
        "train = load_clean_sentences('english-german-train.pkl')\n",
        "test = load_clean_sentences('english-german-test.pkl')\n",
        "# prepare english tokenizer\n",
        "eng_tokenizer = create_tokenizer(dataset[:, 0])\n",
        "eng_vocab_size = len(eng_tokenizer.word_index) + 1\n",
        "eng_length = max_length(dataset[:, 0])\n",
        "print('English Vocabulary Size: %d' % eng_vocab_size)\n",
        "print('English Max Length: %d' % (eng_length))\n",
        "# prepare german tokenizer\n",
        "ger_tokenizer = create_tokenizer(dataset[:, 1])\n",
        "ger_vocab_size = len(ger_tokenizer.word_index) + 1\n",
        "ger_length = max_length(dataset[:, 1])\n",
        "print('German Vocabulary Size: %d' % ger_vocab_size)\n",
        "print('German Max Length: %d' % (ger_length))\n",
        "# prepare training data\n",
        "trainX = encode_sequences(ger_tokenizer, ger_length, train[:, 1])\n",
        "trainY = encode_sequences(eng_tokenizer, eng_length, train[:, 0])\n",
        "trainY = encode_output(trainY, eng_vocab_size)\n",
        "# prepare validation data\n",
        "testX = encode_sequences(ger_tokenizer, ger_length, test[:, 1])\n",
        "testY = encode_sequences(eng_tokenizer, eng_length, test[:, 0])\n",
        "testY = encode_output(testY, eng_vocab_size)\n",
        "# define model\n",
        "model = define_model(ger_vocab_size, eng_vocab_size, ger_length, eng_length, 256)\n",
        "# fit model\n",
        "checkpoint = ModelCheckpoint('model.h5', monitor='val_loss', verbose=1, save_best_only=True, mode='min')\n",
        "model.fit(trainX, trainY, epochs=100, batch_size=64, validation_data=(testX, testY), callbacks=[checkpoint], verbose=1)\n"
      ],
      "execution_count": 0,
      "outputs": [
        {
          "output_type": "stream",
          "text": [
            "English Vocabulary Size: 2309\n",
            "English Max Length: 5\n",
            "German Vocabulary Size: 3657\n",
            "German Max Length: 10\n",
            "_________________________________________________________________\n",
            "Layer (type)                 Output Shape              Param #   \n",
            "=================================================================\n",
            "embedding_4 (Embedding)      (None, 10, 256)           936192    \n",
            "_________________________________________________________________\n",
            "lstm_7 (LSTM)                (None, 256)               525312    \n",
            "_________________________________________________________________\n",
            "repeat_vector_4 (RepeatVecto (None, 5, 256)            0         \n",
            "_________________________________________________________________\n",
            "lstm_8 (LSTM)                (None, 5, 256)            525312    \n",
            "_________________________________________________________________\n",
            "time_distributed_4 (TimeDist (None, 5, 2309)           593413    \n",
            "=================================================================\n",
            "Total params: 2,580,229\n",
            "Trainable params: 2,580,229\n",
            "Non-trainable params: 0\n",
            "_________________________________________________________________\n",
            "Train on 9000 samples, validate on 1000 samples\n",
            "Epoch 1/100\n",
            "9000/9000 [==============================] - 41s 5ms/step - loss: 4.3114 - val_loss: 3.5585\n",
            "\n",
            "Epoch 00001: val_loss improved from inf to 3.55851, saving model to model.h5\n",
            "Epoch 2/100\n",
            "9000/9000 [==============================] - 36s 4ms/step - loss: 3.3992 - val_loss: 3.3892\n",
            "\n",
            "Epoch 00002: val_loss improved from 3.55851 to 3.38924, saving model to model.h5\n",
            "Epoch 3/100\n",
            "9000/9000 [==============================] - 36s 4ms/step - loss: 3.2476 - val_loss: 3.3117\n",
            "\n",
            "Epoch 00003: val_loss improved from 3.38924 to 3.31169, saving model to model.h5\n",
            "Epoch 4/100\n",
            "9000/9000 [==============================] - 36s 4ms/step - loss: 3.0947 - val_loss: 3.1851\n",
            "\n",
            "Epoch 00004: val_loss improved from 3.31169 to 3.18513, saving model to model.h5\n",
            "Epoch 5/100\n",
            "9000/9000 [==============================] - 36s 4ms/step - loss: 2.9581 - val_loss: 3.0861\n",
            "\n",
            "Epoch 00005: val_loss improved from 3.18513 to 3.08606, saving model to model.h5\n",
            "Epoch 6/100\n",
            "9000/9000 [==============================] - 36s 4ms/step - loss: 2.7949 - val_loss: 2.9413\n",
            "\n",
            "Epoch 00006: val_loss improved from 3.08606 to 2.94128, saving model to model.h5\n",
            "Epoch 7/100\n",
            "9000/9000 [==============================] - 36s 4ms/step - loss: 2.6144 - val_loss: 2.7993\n",
            "\n",
            "Epoch 00007: val_loss improved from 2.94128 to 2.79930, saving model to model.h5\n",
            "Epoch 8/100\n",
            "9000/9000 [==============================] - 36s 4ms/step - loss: 2.4278 - val_loss: 2.6695\n",
            "\n",
            "Epoch 00008: val_loss improved from 2.79930 to 2.66952, saving model to model.h5\n",
            "Epoch 9/100\n",
            "9000/9000 [==============================] - 36s 4ms/step - loss: 2.2612 - val_loss: 2.5718\n",
            "\n",
            "Epoch 00009: val_loss improved from 2.66952 to 2.57182, saving model to model.h5\n",
            "Epoch 10/100\n",
            "9000/9000 [==============================] - 36s 4ms/step - loss: 2.1094 - val_loss: 2.4806\n",
            "\n",
            "Epoch 00010: val_loss improved from 2.57182 to 2.48063, saving model to model.h5\n",
            "Epoch 11/100\n",
            "9000/9000 [==============================] - 36s 4ms/step - loss: 1.9639 - val_loss: 2.4163\n",
            "\n",
            "Epoch 00011: val_loss improved from 2.48063 to 2.41631, saving model to model.h5\n",
            "Epoch 12/100\n",
            "9000/9000 [==============================] - 36s 4ms/step - loss: 1.8339 - val_loss: 2.3527\n",
            "\n",
            "Epoch 00012: val_loss improved from 2.41631 to 2.35268, saving model to model.h5\n",
            "Epoch 13/100\n",
            "9000/9000 [==============================] - 36s 4ms/step - loss: 1.7105 - val_loss: 2.3063\n",
            "\n",
            "Epoch 00013: val_loss improved from 2.35268 to 2.30635, saving model to model.h5\n",
            "Epoch 14/100\n",
            "9000/9000 [==============================] - 36s 4ms/step - loss: 1.5939 - val_loss: 2.2512\n",
            "\n",
            "Epoch 00014: val_loss improved from 2.30635 to 2.25124, saving model to model.h5\n",
            "Epoch 15/100\n",
            "9000/9000 [==============================] - 36s 4ms/step - loss: 1.4838 - val_loss: 2.2149\n",
            "\n",
            "Epoch 00015: val_loss improved from 2.25124 to 2.21491, saving model to model.h5\n",
            "Epoch 16/100\n",
            "9000/9000 [==============================] - 36s 4ms/step - loss: 1.3765 - val_loss: 2.1791\n",
            "\n",
            "Epoch 00016: val_loss improved from 2.21491 to 2.17908, saving model to model.h5\n",
            "Epoch 17/100\n",
            "9000/9000 [==============================] - 36s 4ms/step - loss: 1.2764 - val_loss: 2.1575\n",
            "\n",
            "Epoch 00017: val_loss improved from 2.17908 to 2.15752, saving model to model.h5\n",
            "Epoch 18/100\n",
            "9000/9000 [==============================] - 37s 4ms/step - loss: 1.1805 - val_loss: 2.1157\n",
            "\n",
            "Epoch 00018: val_loss improved from 2.15752 to 2.11571, saving model to model.h5\n",
            "Epoch 19/100\n",
            "9000/9000 [==============================] - 37s 4ms/step - loss: 1.0918 - val_loss: 2.0801\n",
            "\n",
            "Epoch 00019: val_loss improved from 2.11571 to 2.08012, saving model to model.h5\n",
            "Epoch 20/100\n",
            "9000/9000 [==============================] - 36s 4ms/step - loss: 1.0001 - val_loss: 2.0700\n",
            "\n",
            "Epoch 00020: val_loss improved from 2.08012 to 2.07001, saving model to model.h5\n",
            "Epoch 21/100\n",
            "9000/9000 [==============================] - 36s 4ms/step - loss: 0.9159 - val_loss: 2.0440\n",
            "\n",
            "Epoch 00021: val_loss improved from 2.07001 to 2.04397, saving model to model.h5\n",
            "Epoch 22/100\n",
            "9000/9000 [==============================] - 36s 4ms/step - loss: 0.8443 - val_loss: 2.0258\n",
            "\n",
            "Epoch 00022: val_loss improved from 2.04397 to 2.02582, saving model to model.h5\n",
            "Epoch 23/100\n",
            "9000/9000 [==============================] - 36s 4ms/step - loss: 0.7676 - val_loss: 2.0120\n",
            "\n",
            "Epoch 00023: val_loss improved from 2.02582 to 2.01197, saving model to model.h5\n",
            "Epoch 24/100\n",
            "9000/9000 [==============================] - 36s 4ms/step - loss: 0.7010 - val_loss: 2.0046\n",
            "\n",
            "Epoch 00024: val_loss improved from 2.01197 to 2.00456, saving model to model.h5\n",
            "Epoch 25/100\n",
            "9000/9000 [==============================] - 35s 4ms/step - loss: 0.6397 - val_loss: 2.0016\n",
            "\n",
            "Epoch 00025: val_loss improved from 2.00456 to 2.00160, saving model to model.h5\n",
            "Epoch 26/100\n",
            "9000/9000 [==============================] - 36s 4ms/step - loss: 0.5831 - val_loss: 1.9689\n",
            "\n",
            "Epoch 00026: val_loss improved from 2.00160 to 1.96889, saving model to model.h5\n",
            "Epoch 27/100\n",
            "9000/9000 [==============================] - 36s 4ms/step - loss: 0.5309 - val_loss: 1.9793\n",
            "\n",
            "Epoch 00027: val_loss did not improve from 1.96889\n",
            "Epoch 28/100\n",
            "9000/9000 [==============================] - 36s 4ms/step - loss: 0.4799 - val_loss: 1.9730\n",
            "\n",
            "Epoch 00028: val_loss did not improve from 1.96889\n",
            "Epoch 29/100\n",
            "9000/9000 [==============================] - 36s 4ms/step - loss: 0.4357 - val_loss: 1.9704\n",
            "\n",
            "Epoch 00029: val_loss did not improve from 1.96889\n",
            "Epoch 30/100\n",
            "9000/9000 [==============================] - 36s 4ms/step - loss: 0.4021 - val_loss: 1.9756\n",
            "\n",
            "Epoch 00030: val_loss did not improve from 1.96889\n",
            "Epoch 31/100\n",
            "9000/9000 [==============================] - 36s 4ms/step - loss: 0.3651 - val_loss: 1.9746\n",
            "\n",
            "Epoch 00031: val_loss did not improve from 1.96889\n",
            "Epoch 32/100\n",
            "9000/9000 [==============================] - 36s 4ms/step - loss: 0.3310 - val_loss: 1.9704\n",
            "\n",
            "Epoch 00032: val_loss did not improve from 1.96889\n",
            "Epoch 33/100\n",
            "9000/9000 [==============================] - 36s 4ms/step - loss: 0.3044 - val_loss: 1.9700\n",
            "\n",
            "Epoch 00033: val_loss did not improve from 1.96889\n",
            "Epoch 34/100\n",
            "9000/9000 [==============================] - 36s 4ms/step - loss: 0.2804 - val_loss: 1.9859\n",
            "\n",
            "Epoch 00034: val_loss did not improve from 1.96889\n",
            "Epoch 35/100\n",
            "9000/9000 [==============================] - 37s 4ms/step - loss: 0.2575 - val_loss: 1.9867\n",
            "\n",
            "Epoch 00035: val_loss did not improve from 1.96889\n",
            "Epoch 36/100\n",
            "9000/9000 [==============================] - 36s 4ms/step - loss: 0.2393 - val_loss: 1.9885\n",
            "\n",
            "Epoch 00036: val_loss did not improve from 1.96889\n",
            "Epoch 37/100\n",
            "9000/9000 [==============================] - 36s 4ms/step - loss: 0.2225 - val_loss: 2.0069\n",
            "\n",
            "Epoch 00037: val_loss did not improve from 1.96889\n",
            "Epoch 38/100\n",
            "9000/9000 [==============================] - 36s 4ms/step - loss: 0.2067 - val_loss: 2.0090\n",
            "\n",
            "Epoch 00038: val_loss did not improve from 1.96889\n",
            "Epoch 39/100\n",
            "9000/9000 [==============================] - 36s 4ms/step - loss: 0.1953 - val_loss: 2.0104\n",
            "\n",
            "Epoch 00039: val_loss did not improve from 1.96889\n",
            "Epoch 40/100\n",
            "9000/9000 [==============================] - 36s 4ms/step - loss: 0.1826 - val_loss: 2.0332\n",
            "\n",
            "Epoch 00040: val_loss did not improve from 1.96889\n",
            "Epoch 41/100\n",
            "9000/9000 [==============================] - 36s 4ms/step - loss: 0.1710 - val_loss: 2.0299\n",
            "\n",
            "Epoch 00041: val_loss did not improve from 1.96889\n",
            "Epoch 42/100\n",
            "9000/9000 [==============================] - 36s 4ms/step - loss: 0.1627 - val_loss: 2.0282\n",
            "\n",
            "Epoch 00042: val_loss did not improve from 1.96889\n",
            "Epoch 43/100\n",
            "9000/9000 [==============================] - 36s 4ms/step - loss: 0.1534 - val_loss: 2.0398\n",
            "\n",
            "Epoch 00043: val_loss did not improve from 1.96889\n",
            "Epoch 44/100\n",
            "9000/9000 [==============================] - 37s 4ms/step - loss: 0.1464 - val_loss: 2.0453\n",
            "\n",
            "Epoch 00044: val_loss did not improve from 1.96889\n",
            "Epoch 45/100\n",
            "9000/9000 [==============================] - 36s 4ms/step - loss: 0.1407 - val_loss: 2.0557\n",
            "\n",
            "Epoch 00045: val_loss did not improve from 1.96889\n",
            "Epoch 46/100\n",
            "9000/9000 [==============================] - 36s 4ms/step - loss: 0.1338 - val_loss: 2.0691\n",
            "\n",
            "Epoch 00046: val_loss did not improve from 1.96889\n",
            "Epoch 47/100\n",
            "9000/9000 [==============================] - 36s 4ms/step - loss: 0.1291 - val_loss: 2.0797\n",
            "\n",
            "Epoch 00047: val_loss did not improve from 1.96889\n",
            "Epoch 48/100\n",
            "9000/9000 [==============================] - 36s 4ms/step - loss: 0.1239 - val_loss: 2.0788\n",
            "\n",
            "Epoch 00048: val_loss did not improve from 1.96889\n",
            "Epoch 49/100\n",
            "9000/9000 [==============================] - 36s 4ms/step - loss: 0.1217 - val_loss: 2.1006\n",
            "\n",
            "Epoch 00049: val_loss did not improve from 1.96889\n",
            "Epoch 50/100\n",
            "9000/9000 [==============================] - 36s 4ms/step - loss: 0.1173 - val_loss: 2.0964\n",
            "\n",
            "Epoch 00050: val_loss did not improve from 1.96889\n",
            "Epoch 51/100\n",
            "9000/9000 [==============================] - 36s 4ms/step - loss: 0.1142 - val_loss: 2.1075\n",
            "\n",
            "Epoch 00051: val_loss did not improve from 1.96889\n",
            "Epoch 52/100\n",
            "9000/9000 [==============================] - 36s 4ms/step - loss: 0.1108 - val_loss: 2.1117\n",
            "\n",
            "Epoch 00052: val_loss did not improve from 1.96889\n",
            "Epoch 53/100\n",
            "9000/9000 [==============================] - 36s 4ms/step - loss: 0.1096 - val_loss: 2.1167\n",
            "\n",
            "Epoch 00053: val_loss did not improve from 1.96889\n",
            "Epoch 54/100\n",
            "9000/9000 [==============================] - 35s 4ms/step - loss: 0.1062 - val_loss: 2.1293\n",
            "\n",
            "Epoch 00054: val_loss did not improve from 1.96889\n",
            "Epoch 55/100\n",
            "9000/9000 [==============================] - 36s 4ms/step - loss: 0.1027 - val_loss: 2.1336\n",
            "\n",
            "Epoch 00055: val_loss did not improve from 1.96889\n",
            "Epoch 56/100\n",
            "9000/9000 [==============================] - 36s 4ms/step - loss: 0.1021 - val_loss: 2.1422\n",
            "\n",
            "Epoch 00056: val_loss did not improve from 1.96889\n",
            "Epoch 57/100\n",
            "9000/9000 [==============================] - 36s 4ms/step - loss: 0.1009 - val_loss: 2.1373\n",
            "\n",
            "Epoch 00057: val_loss did not improve from 1.96889\n",
            "Epoch 58/100\n",
            "9000/9000 [==============================] - 36s 4ms/step - loss: 0.1006 - val_loss: 2.1369\n",
            "\n",
            "Epoch 00058: val_loss did not improve from 1.96889\n",
            "Epoch 59/100\n",
            "9000/9000 [==============================] - 36s 4ms/step - loss: 0.0986 - val_loss: 2.1570\n",
            "\n",
            "Epoch 00059: val_loss did not improve from 1.96889\n",
            "Epoch 60/100\n",
            "9000/9000 [==============================] - 36s 4ms/step - loss: 0.0961 - val_loss: 2.1556\n",
            "\n",
            "Epoch 00060: val_loss did not improve from 1.96889\n",
            "Epoch 61/100\n",
            "9000/9000 [==============================] - 36s 4ms/step - loss: 0.0959 - val_loss: 2.1631\n",
            "\n",
            "Epoch 00061: val_loss did not improve from 1.96889\n",
            "Epoch 62/100\n",
            "9000/9000 [==============================] - 36s 4ms/step - loss: 0.0935 - val_loss: 2.1697\n",
            "\n",
            "Epoch 00062: val_loss did not improve from 1.96889\n",
            "Epoch 63/100\n",
            "9000/9000 [==============================] - 36s 4ms/step - loss: 0.0927 - val_loss: 2.1838\n",
            "\n",
            "Epoch 00063: val_loss did not improve from 1.96889\n",
            "Epoch 64/100\n",
            "9000/9000 [==============================] - 36s 4ms/step - loss: 0.0929 - val_loss: 2.2049\n",
            "\n",
            "Epoch 00064: val_loss did not improve from 1.96889\n",
            "Epoch 65/100\n",
            "9000/9000 [==============================] - 36s 4ms/step - loss: 0.0924 - val_loss: 2.1862\n",
            "\n",
            "Epoch 00065: val_loss did not improve from 1.96889\n",
            "Epoch 66/100\n",
            "9000/9000 [==============================] - 36s 4ms/step - loss: 0.0894 - val_loss: 2.1902\n",
            "\n",
            "Epoch 00066: val_loss did not improve from 1.96889\n",
            "Epoch 67/100\n",
            "9000/9000 [==============================] - 36s 4ms/step - loss: 0.0879 - val_loss: 2.2064\n",
            "\n",
            "Epoch 00067: val_loss did not improve from 1.96889\n",
            "Epoch 68/100\n",
            "9000/9000 [==============================] - 35s 4ms/step - loss: 0.0883 - val_loss: 2.2030\n",
            "\n",
            "Epoch 00068: val_loss did not improve from 1.96889\n",
            "Epoch 69/100\n",
            "9000/9000 [==============================] - 36s 4ms/step - loss: 0.0886 - val_loss: 2.2012\n",
            "\n",
            "Epoch 00069: val_loss did not improve from 1.96889\n",
            "Epoch 70/100\n",
            "9000/9000 [==============================] - 36s 4ms/step - loss: 0.0871 - val_loss: 2.2190\n",
            "\n",
            "Epoch 00070: val_loss did not improve from 1.96889\n",
            "Epoch 71/100\n",
            "9000/9000 [==============================] - 36s 4ms/step - loss: 0.0879 - val_loss: 2.2041\n",
            "\n",
            "Epoch 00071: val_loss did not improve from 1.96889\n",
            "Epoch 72/100\n",
            "9000/9000 [==============================] - 36s 4ms/step - loss: 0.0853 - val_loss: 2.2279\n",
            "\n",
            "Epoch 00072: val_loss did not improve from 1.96889\n",
            "Epoch 73/100\n",
            "9000/9000 [==============================] - 36s 4ms/step - loss: 0.0845 - val_loss: 2.2362\n",
            "\n",
            "Epoch 00073: val_loss did not improve from 1.96889\n",
            "Epoch 74/100\n",
            "9000/9000 [==============================] - 36s 4ms/step - loss: 0.0844 - val_loss: 2.2159\n",
            "\n",
            "Epoch 00074: val_loss did not improve from 1.96889\n",
            "Epoch 75/100\n",
            "9000/9000 [==============================] - 36s 4ms/step - loss: 0.0833 - val_loss: 2.2338\n",
            "\n",
            "Epoch 00075: val_loss did not improve from 1.96889\n",
            "Epoch 76/100\n",
            "9000/9000 [==============================] - 36s 4ms/step - loss: 0.0845 - val_loss: 2.2295\n",
            "\n",
            "Epoch 00076: val_loss did not improve from 1.96889\n",
            "Epoch 77/100\n",
            "9000/9000 [==============================] - 36s 4ms/step - loss: 0.0841 - val_loss: 2.2508\n",
            "\n",
            "Epoch 00077: val_loss did not improve from 1.96889\n",
            "Epoch 78/100\n",
            "9000/9000 [==============================] - 36s 4ms/step - loss: 0.0832 - val_loss: 2.2667\n",
            "\n",
            "Epoch 00078: val_loss did not improve from 1.96889\n",
            "Epoch 79/100\n",
            "9000/9000 [==============================] - 36s 4ms/step - loss: 0.0824 - val_loss: 2.2440\n",
            "\n",
            "Epoch 00079: val_loss did not improve from 1.96889\n",
            "Epoch 80/100\n",
            "9000/9000 [==============================] - 36s 4ms/step - loss: 0.0817 - val_loss: 2.2545\n",
            "\n",
            "Epoch 00080: val_loss did not improve from 1.96889\n",
            "Epoch 81/100\n",
            "9000/9000 [==============================] - 36s 4ms/step - loss: 0.0822 - val_loss: 2.2805\n",
            "\n",
            "Epoch 00081: val_loss did not improve from 1.96889\n",
            "Epoch 82/100\n",
            "9000/9000 [==============================] - 36s 4ms/step - loss: 0.0832 - val_loss: 2.2808\n",
            "\n",
            "Epoch 00082: val_loss did not improve from 1.96889\n",
            "Epoch 83/100\n",
            "9000/9000 [==============================] - 36s 4ms/step - loss: 0.0827 - val_loss: 2.2915\n",
            "\n",
            "Epoch 00083: val_loss did not improve from 1.96889\n",
            "Epoch 84/100\n",
            "9000/9000 [==============================] - 36s 4ms/step - loss: 0.0837 - val_loss: 2.3064\n",
            "\n",
            "Epoch 00084: val_loss did not improve from 1.96889\n",
            "Epoch 85/100\n",
            "9000/9000 [==============================] - 35s 4ms/step - loss: 0.0839 - val_loss: 2.2956\n",
            "\n",
            "Epoch 00085: val_loss did not improve from 1.96889\n",
            "Epoch 86/100\n",
            "1536/9000 [====>.........................] - ETA: 28s - loss: 0.0694"
          ],
          "name": "stdout"
        },
        {
          "output_type": "error",
          "ename": "KeyboardInterrupt",
          "evalue": "ignored",
          "traceback": [
            "\u001b[0;31m---------------------------------------------------------------------------\u001b[0m",
            "\u001b[0;31mKeyboardInterrupt\u001b[0m                         Traceback (most recent call last)",
            "\u001b[0;32m<ipython-input-32-bca64ec654da>\u001b[0m in \u001b[0;36m<module>\u001b[0;34m()\u001b[0m\n\u001b[1;32m     88\u001b[0m \u001b[0;31m# fit model\u001b[0m\u001b[0;34m\u001b[0m\u001b[0;34m\u001b[0m\u001b[0;34m\u001b[0m\u001b[0m\n\u001b[1;32m     89\u001b[0m \u001b[0mcheckpoint\u001b[0m \u001b[0;34m=\u001b[0m \u001b[0mModelCheckpoint\u001b[0m\u001b[0;34m(\u001b[0m\u001b[0;34m'model.h5'\u001b[0m\u001b[0;34m,\u001b[0m \u001b[0mmonitor\u001b[0m\u001b[0;34m=\u001b[0m\u001b[0;34m'val_loss'\u001b[0m\u001b[0;34m,\u001b[0m \u001b[0mverbose\u001b[0m\u001b[0;34m=\u001b[0m\u001b[0;36m1\u001b[0m\u001b[0;34m,\u001b[0m \u001b[0msave_best_only\u001b[0m\u001b[0;34m=\u001b[0m\u001b[0;32mTrue\u001b[0m\u001b[0;34m,\u001b[0m \u001b[0mmode\u001b[0m\u001b[0;34m=\u001b[0m\u001b[0;34m'min'\u001b[0m\u001b[0;34m)\u001b[0m\u001b[0;34m\u001b[0m\u001b[0;34m\u001b[0m\u001b[0m\n\u001b[0;32m---> 90\u001b[0;31m \u001b[0mmodel\u001b[0m\u001b[0;34m.\u001b[0m\u001b[0mfit\u001b[0m\u001b[0;34m(\u001b[0m\u001b[0mtrainX\u001b[0m\u001b[0;34m,\u001b[0m \u001b[0mtrainY\u001b[0m\u001b[0;34m,\u001b[0m \u001b[0mepochs\u001b[0m\u001b[0;34m=\u001b[0m\u001b[0;36m100\u001b[0m\u001b[0;34m,\u001b[0m \u001b[0mbatch_size\u001b[0m\u001b[0;34m=\u001b[0m\u001b[0;36m64\u001b[0m\u001b[0;34m,\u001b[0m \u001b[0mvalidation_data\u001b[0m\u001b[0;34m=\u001b[0m\u001b[0;34m(\u001b[0m\u001b[0mtestX\u001b[0m\u001b[0;34m,\u001b[0m \u001b[0mtestY\u001b[0m\u001b[0;34m)\u001b[0m\u001b[0;34m,\u001b[0m \u001b[0mcallbacks\u001b[0m\u001b[0;34m=\u001b[0m\u001b[0;34m[\u001b[0m\u001b[0mcheckpoint\u001b[0m\u001b[0;34m]\u001b[0m\u001b[0;34m,\u001b[0m \u001b[0mverbose\u001b[0m\u001b[0;34m=\u001b[0m\u001b[0;36m1\u001b[0m\u001b[0;34m)\u001b[0m\u001b[0;34m\u001b[0m\u001b[0;34m\u001b[0m\u001b[0m\n\u001b[0m",
            "\u001b[0;32m/usr/local/lib/python3.6/dist-packages/keras/engine/training.py\u001b[0m in \u001b[0;36mfit\u001b[0;34m(self, x, y, batch_size, epochs, verbose, callbacks, validation_split, validation_data, shuffle, class_weight, sample_weight, initial_epoch, steps_per_epoch, validation_steps, **kwargs)\u001b[0m\n\u001b[1;32m   1037\u001b[0m                                         \u001b[0minitial_epoch\u001b[0m\u001b[0;34m=\u001b[0m\u001b[0minitial_epoch\u001b[0m\u001b[0;34m,\u001b[0m\u001b[0;34m\u001b[0m\u001b[0;34m\u001b[0m\u001b[0m\n\u001b[1;32m   1038\u001b[0m                                         \u001b[0msteps_per_epoch\u001b[0m\u001b[0;34m=\u001b[0m\u001b[0msteps_per_epoch\u001b[0m\u001b[0;34m,\u001b[0m\u001b[0;34m\u001b[0m\u001b[0;34m\u001b[0m\u001b[0m\n\u001b[0;32m-> 1039\u001b[0;31m                                         validation_steps=validation_steps)\n\u001b[0m\u001b[1;32m   1040\u001b[0m \u001b[0;34m\u001b[0m\u001b[0m\n\u001b[1;32m   1041\u001b[0m     def evaluate(self, x=None, y=None,\n",
            "\u001b[0;32m/usr/local/lib/python3.6/dist-packages/keras/engine/training_arrays.py\u001b[0m in \u001b[0;36mfit_loop\u001b[0;34m(model, f, ins, out_labels, batch_size, epochs, verbose, callbacks, val_f, val_ins, shuffle, callback_metrics, initial_epoch, steps_per_epoch, validation_steps)\u001b[0m\n\u001b[1;32m    197\u001b[0m                     \u001b[0mins_batch\u001b[0m\u001b[0;34m[\u001b[0m\u001b[0mi\u001b[0m\u001b[0;34m]\u001b[0m \u001b[0;34m=\u001b[0m \u001b[0mins_batch\u001b[0m\u001b[0;34m[\u001b[0m\u001b[0mi\u001b[0m\u001b[0;34m]\u001b[0m\u001b[0;34m.\u001b[0m\u001b[0mtoarray\u001b[0m\u001b[0;34m(\u001b[0m\u001b[0;34m)\u001b[0m\u001b[0;34m\u001b[0m\u001b[0;34m\u001b[0m\u001b[0m\n\u001b[1;32m    198\u001b[0m \u001b[0;34m\u001b[0m\u001b[0m\n\u001b[0;32m--> 199\u001b[0;31m                 \u001b[0mouts\u001b[0m \u001b[0;34m=\u001b[0m \u001b[0mf\u001b[0m\u001b[0;34m(\u001b[0m\u001b[0mins_batch\u001b[0m\u001b[0;34m)\u001b[0m\u001b[0;34m\u001b[0m\u001b[0;34m\u001b[0m\u001b[0m\n\u001b[0m\u001b[1;32m    200\u001b[0m                 \u001b[0mouts\u001b[0m \u001b[0;34m=\u001b[0m \u001b[0mto_list\u001b[0m\u001b[0;34m(\u001b[0m\u001b[0mouts\u001b[0m\u001b[0;34m)\u001b[0m\u001b[0;34m\u001b[0m\u001b[0;34m\u001b[0m\u001b[0m\n\u001b[1;32m    201\u001b[0m                 \u001b[0;32mfor\u001b[0m \u001b[0ml\u001b[0m\u001b[0;34m,\u001b[0m \u001b[0mo\u001b[0m \u001b[0;32min\u001b[0m \u001b[0mzip\u001b[0m\u001b[0;34m(\u001b[0m\u001b[0mout_labels\u001b[0m\u001b[0;34m,\u001b[0m \u001b[0mouts\u001b[0m\u001b[0;34m)\u001b[0m\u001b[0;34m:\u001b[0m\u001b[0;34m\u001b[0m\u001b[0;34m\u001b[0m\u001b[0m\n",
            "\u001b[0;32m/usr/local/lib/python3.6/dist-packages/keras/backend/tensorflow_backend.py\u001b[0m in \u001b[0;36m__call__\u001b[0;34m(self, inputs)\u001b[0m\n\u001b[1;32m   2713\u001b[0m                 \u001b[0;32mreturn\u001b[0m \u001b[0mself\u001b[0m\u001b[0;34m.\u001b[0m\u001b[0m_legacy_call\u001b[0m\u001b[0;34m(\u001b[0m\u001b[0minputs\u001b[0m\u001b[0;34m)\u001b[0m\u001b[0;34m\u001b[0m\u001b[0;34m\u001b[0m\u001b[0m\n\u001b[1;32m   2714\u001b[0m \u001b[0;34m\u001b[0m\u001b[0m\n\u001b[0;32m-> 2715\u001b[0;31m             \u001b[0;32mreturn\u001b[0m \u001b[0mself\u001b[0m\u001b[0;34m.\u001b[0m\u001b[0m_call\u001b[0m\u001b[0;34m(\u001b[0m\u001b[0minputs\u001b[0m\u001b[0;34m)\u001b[0m\u001b[0;34m\u001b[0m\u001b[0;34m\u001b[0m\u001b[0m\n\u001b[0m\u001b[1;32m   2716\u001b[0m         \u001b[0;32melse\u001b[0m\u001b[0;34m:\u001b[0m\u001b[0;34m\u001b[0m\u001b[0;34m\u001b[0m\u001b[0m\n\u001b[1;32m   2717\u001b[0m             \u001b[0;32mif\u001b[0m \u001b[0mpy_any\u001b[0m\u001b[0;34m(\u001b[0m\u001b[0mis_tensor\u001b[0m\u001b[0;34m(\u001b[0m\u001b[0mx\u001b[0m\u001b[0;34m)\u001b[0m \u001b[0;32mfor\u001b[0m \u001b[0mx\u001b[0m \u001b[0;32min\u001b[0m \u001b[0minputs\u001b[0m\u001b[0;34m)\u001b[0m\u001b[0;34m:\u001b[0m\u001b[0;34m\u001b[0m\u001b[0;34m\u001b[0m\u001b[0m\n",
            "\u001b[0;32m/usr/local/lib/python3.6/dist-packages/keras/backend/tensorflow_backend.py\u001b[0m in \u001b[0;36m_call\u001b[0;34m(self, inputs)\u001b[0m\n\u001b[1;32m   2673\u001b[0m             \u001b[0mfetched\u001b[0m \u001b[0;34m=\u001b[0m \u001b[0mself\u001b[0m\u001b[0;34m.\u001b[0m\u001b[0m_callable_fn\u001b[0m\u001b[0;34m(\u001b[0m\u001b[0;34m*\u001b[0m\u001b[0marray_vals\u001b[0m\u001b[0;34m,\u001b[0m \u001b[0mrun_metadata\u001b[0m\u001b[0;34m=\u001b[0m\u001b[0mself\u001b[0m\u001b[0;34m.\u001b[0m\u001b[0mrun_metadata\u001b[0m\u001b[0;34m)\u001b[0m\u001b[0;34m\u001b[0m\u001b[0;34m\u001b[0m\u001b[0m\n\u001b[1;32m   2674\u001b[0m         \u001b[0;32melse\u001b[0m\u001b[0;34m:\u001b[0m\u001b[0;34m\u001b[0m\u001b[0;34m\u001b[0m\u001b[0m\n\u001b[0;32m-> 2675\u001b[0;31m             \u001b[0mfetched\u001b[0m \u001b[0;34m=\u001b[0m \u001b[0mself\u001b[0m\u001b[0;34m.\u001b[0m\u001b[0m_callable_fn\u001b[0m\u001b[0;34m(\u001b[0m\u001b[0;34m*\u001b[0m\u001b[0marray_vals\u001b[0m\u001b[0;34m)\u001b[0m\u001b[0;34m\u001b[0m\u001b[0;34m\u001b[0m\u001b[0m\n\u001b[0m\u001b[1;32m   2676\u001b[0m         \u001b[0;32mreturn\u001b[0m \u001b[0mfetched\u001b[0m\u001b[0;34m[\u001b[0m\u001b[0;34m:\u001b[0m\u001b[0mlen\u001b[0m\u001b[0;34m(\u001b[0m\u001b[0mself\u001b[0m\u001b[0;34m.\u001b[0m\u001b[0moutputs\u001b[0m\u001b[0;34m)\u001b[0m\u001b[0;34m]\u001b[0m\u001b[0;34m\u001b[0m\u001b[0;34m\u001b[0m\u001b[0m\n\u001b[1;32m   2677\u001b[0m \u001b[0;34m\u001b[0m\u001b[0m\n",
            "\u001b[0;32m/usr/local/lib/python3.6/dist-packages/tensorflow/python/client/session.py\u001b[0m in \u001b[0;36m__call__\u001b[0;34m(self, *args, **kwargs)\u001b[0m\n\u001b[1;32m   1437\u001b[0m           ret = tf_session.TF_SessionRunCallable(\n\u001b[1;32m   1438\u001b[0m               \u001b[0mself\u001b[0m\u001b[0;34m.\u001b[0m\u001b[0m_session\u001b[0m\u001b[0;34m.\u001b[0m\u001b[0m_session\u001b[0m\u001b[0;34m,\u001b[0m \u001b[0mself\u001b[0m\u001b[0;34m.\u001b[0m\u001b[0m_handle\u001b[0m\u001b[0;34m,\u001b[0m \u001b[0margs\u001b[0m\u001b[0;34m,\u001b[0m \u001b[0mstatus\u001b[0m\u001b[0;34m,\u001b[0m\u001b[0;34m\u001b[0m\u001b[0;34m\u001b[0m\u001b[0m\n\u001b[0;32m-> 1439\u001b[0;31m               run_metadata_ptr)\n\u001b[0m\u001b[1;32m   1440\u001b[0m         \u001b[0;32mif\u001b[0m \u001b[0mrun_metadata\u001b[0m\u001b[0;34m:\u001b[0m\u001b[0;34m\u001b[0m\u001b[0;34m\u001b[0m\u001b[0m\n\u001b[1;32m   1441\u001b[0m           \u001b[0mproto_data\u001b[0m \u001b[0;34m=\u001b[0m \u001b[0mtf_session\u001b[0m\u001b[0;34m.\u001b[0m\u001b[0mTF_GetBuffer\u001b[0m\u001b[0;34m(\u001b[0m\u001b[0mrun_metadata_ptr\u001b[0m\u001b[0;34m)\u001b[0m\u001b[0;34m\u001b[0m\u001b[0;34m\u001b[0m\u001b[0m\n",
            "\u001b[0;31mKeyboardInterrupt\u001b[0m: "
          ]
        }
      ]
    },
    {
      "metadata": {
        "id": "TVrQLDNzUJ49",
        "colab_type": "code",
        "outputId": "c139a7ef-d665-4d68-c1e3-affa4466e33b",
        "colab": {
          "base_uri": "https://localhost:8080/",
          "height": 663
        }
      },
      "cell_type": "code",
      "source": [
        "from numpy import argmax\n",
        "from keras.preprocessing.text import Tokenizer\n",
        "from keras.preprocessing.sequence import pad_sequences\n",
        "from keras.models import load_model\n",
        "from nltk.translate.bleu_score import corpus_bleu\n",
        "\n",
        "# load a clean dataset\n",
        "def load_clean_sentences(filename):\n",
        "\treturn load(open(filename, 'rb'))\n",
        "\n",
        "# fit a tokenizer\n",
        "def create_tokenizer(lines):\n",
        "\ttokenizer = Tokenizer()\n",
        "\ttokenizer.fit_on_texts(lines)\n",
        "\treturn tokenizer\n",
        "\n",
        "# max sentence length\n",
        "def max_length(lines):\n",
        "\treturn max(len(line.split()) for line in lines)\n",
        "\n",
        "# encode and pad sequences\n",
        "def encode_sequences(tokenizer, length, lines):\n",
        "\t# integer encode sequences\n",
        "\tX = tokenizer.texts_to_sequences(lines)\n",
        "\t# pad sequences with 0 values\n",
        "\tX = pad_sequences(X, maxlen=length, padding='post')\n",
        "\treturn X\n",
        "\n",
        "# map an integer to a word\n",
        "def word_for_id(integer, tokenizer):\n",
        "\tfor word, index in tokenizer.word_index.items():\n",
        "\t\tif index == integer:\n",
        "\t\t\treturn word\n",
        "\treturn None\n",
        "\n",
        "# generate target given source sequence\n",
        "def predict_sequence(model, tokenizer, source):\n",
        "\tprediction = model.predict(source, verbose=0)[0]\n",
        "\tintegers = [argmax(vector) for vector in prediction]\n",
        "\ttarget = list()\n",
        "\tfor i in integers:\n",
        "\t\tword = word_for_id(i, tokenizer)\n",
        "\t\tif word is None:\n",
        "\t\t\tbreak\n",
        "\t\ttarget.append(word)\n",
        "\treturn ' '.join(target)\n",
        "\n",
        "# evaluate the skill of the model\n",
        "def evaluate_model(model, sources, raw_dataset):\n",
        "\tactual, predicted = list(), list()\n",
        "\tfor i, source in enumerate(sources):\n",
        "\t\t# translate encoded source text\n",
        "\t\tsource = source.reshape((1, source.shape[0]))\n",
        "\t\ttranslation = predict_sequence(model, eng_tokenizer, source)\n",
        "\t\traw_target, raw_src = raw_dataset[i]\n",
        "\t\tif i < 10:\n",
        "\t\t\tprint('src=[%s], target=[%s], predicted=[%s]' % (raw_src, raw_target, translation))\n",
        "\t\tactual.append(raw_target.split())\n",
        "\t\tpredicted.append(translation.split())\n",
        "\t# calculate BLEU score\n",
        "\tprint('BLEU-1: %f' % corpus_bleu(actual, predicted, weights=(1.0, 0, 0, 0)))\n",
        "\tprint('BLEU-2: %f' % corpus_bleu(actual, predicted, weights=(0.5, 0.5, 0, 0)))\n",
        "\tprint('BLEU-3: %f' % corpus_bleu(actual, predicted, weights=(0.3, 0.3, 0.3, 0)))\n",
        "\tprint('BLEU-4: %f' % corpus_bleu(actual, predicted, weights=(0.25, 0.25, 0.25, 0.25)))\n",
        "\n",
        "# load datasets\n",
        "dataset = load_clean_sentences('english-german-both.pkl')\n",
        "train = load_clean_sentences('english-german-train.pkl')\n",
        "test = load_clean_sentences('english-german-test.pkl')\n",
        "# prepare english tokenizer\n",
        "eng_tokenizer = create_tokenizer(dataset[:, 0])\n",
        "eng_vocab_size = len(eng_tokenizer.word_index) + 1\n",
        "eng_length = max_length(dataset[:, 0])\n",
        "# prepare german tokenizer\n",
        "ger_tokenizer = create_tokenizer(dataset[:, 1])\n",
        "ger_vocab_size = len(ger_tokenizer.word_index) + 1\n",
        "ger_length = max_length(dataset[:, 1])\n",
        "# prepare data\n",
        "trainX = encode_sequences(ger_tokenizer, ger_length, train[:, 1])\n",
        "testX = encode_sequences(ger_tokenizer, ger_length, test[:, 1])\n",
        "# load model\n",
        "model = load_model('model.h5')\n",
        "# test on some training sequences\n",
        "print('train')\n",
        "evaluate_model(model, trainX, train)\n",
        "# test on some test sequences\n",
        "print('test')\n",
        "evaluate_model(model, testX, test)"
      ],
      "execution_count": 0,
      "outputs": [
        {
          "output_type": "stream",
          "text": [
            "train\n",
            "src=[sollen wir beginnen], target=[shall we start], predicted=[shall we start]\n",
            "src=[es sind alle tot], target=[everyones dead], predicted=[youre dead]\n",
            "src=[ich bin zu hause], target=[im home], predicted=[im at home]\n",
            "src=[er kam als erster], target=[he came first], predicted=[he came first]\n",
            "src=[hau ab], target=[beat it], predicted=[get away]\n",
            "src=[das ist kein witz], target=[its not a joke], predicted=[its not a joke]\n",
            "src=[das ist ein zeichen], target=[thats a sign], predicted=[thats a a sign]\n",
            "src=[sei realistisch], target=[be realistic], predicted=[be realistic]\n",
            "src=[mir geht es gut], target=[i am well], predicted=[im am fine]\n",
            "src=[scher dich fort], target=[get lost], predicted=[get away]\n"
          ],
          "name": "stdout"
        },
        {
          "output_type": "stream",
          "text": [
            "/usr/local/lib/python3.6/dist-packages/nltk/translate/bleu_score.py:490: UserWarning: \n",
            "Corpus/Sentence contains 0 counts of 2-gram overlaps.\n",
            "BLEU scores might be undesirable; use SmoothingFunction().\n",
            "  warnings.warn(_msg)\n"
          ],
          "name": "stderr"
        },
        {
          "output_type": "stream",
          "text": [
            "BLEU-1: 0.076652\n",
            "BLEU-2: 0.267151\n",
            "BLEU-3: 0.440200\n",
            "BLEU-4: 0.498739\n",
            "test\n",
            "src=[hier komme ich], target=[here i come], predicted=[hi to of]\n",
            "src=[lass mich gehen], target=[let me go], predicted=[let me go]\n",
            "src=[tom ist konzentriert], target=[tom is focused], predicted=[tom is vain]\n",
            "src=[das ist zu schiech], target=[its too ugly], predicted=[its too ours]\n",
            "src=[ich gehe gerne laufen], target=[i like to walk], predicted=[i like to win]\n",
            "src=[alle waren sich einig], target=[everyone agreed], predicted=[youre lost]\n",
            "src=[kann ich essen], target=[can i eat], predicted=[can i go]\n",
            "src=[daraus wird nichts], target=[forget it], predicted=[dont talk]\n",
            "src=[du fahrst], target=[you drive], predicted=[you idiot]\n",
            "src=[tom wird sprechen], target=[tom will speak], predicted=[tomll will talk]\n"
          ],
          "name": "stdout"
        },
        {
          "output_type": "stream",
          "text": [
            "/usr/local/lib/python3.6/dist-packages/nltk/translate/bleu_score.py:490: UserWarning: \n",
            "Corpus/Sentence contains 0 counts of 3-gram overlaps.\n",
            "BLEU scores might be undesirable; use SmoothingFunction().\n",
            "  warnings.warn(_msg)\n"
          ],
          "name": "stderr"
        },
        {
          "output_type": "stream",
          "text": [
            "BLEU-1: 0.083346\n",
            "BLEU-2: 0.006457\n",
            "BLEU-3: 0.047253\n",
            "BLEU-4: 0.077718\n"
          ],
          "name": "stdout"
        }
      ]
    },
    {
      "metadata": {
        "id": "CDo98FHdUJ7I",
        "colab_type": "code",
        "outputId": "1f667d06-1f37-4b16-ef15-20927a945e5d",
        "colab": {
          "base_uri": "https://localhost:8080/",
          "height": 34
        }
      },
      "cell_type": "code",
      "source": [
        "train[:1]"
      ],
      "execution_count": 0,
      "outputs": [
        {
          "output_type": "execute_result",
          "data": {
            "text/plain": [
              "array([['shall we start', 'sollen wir beginnen']], dtype='<U370')"
            ]
          },
          "metadata": {
            "tags": []
          },
          "execution_count": 19
        }
      ]
    },
    {
      "metadata": {
        "id": "zzCrFwD2UJ-g",
        "colab_type": "code",
        "outputId": "2623e8d7-194c-433c-ebf1-ba69b08fb8e2",
        "colab": {
          "base_uri": "https://localhost:8080/",
          "height": 34
        }
      },
      "cell_type": "code",
      "source": [
        "test[:1]"
      ],
      "execution_count": 0,
      "outputs": [
        {
          "output_type": "execute_result",
          "data": {
            "text/plain": [
              "array([['here i come', 'hier komme ich']], dtype='<U370')"
            ]
          },
          "metadata": {
            "tags": []
          },
          "execution_count": 20
        }
      ]
    },
    {
      "metadata": {
        "id": "OYXqhyWIZRtB",
        "colab_type": "code",
        "outputId": "03b23700-b2b9-4d3a-de68-6d7a0a22b261",
        "colab": {
          "base_uri": "https://localhost:8080/",
          "height": 34
        }
      },
      "cell_type": "code",
      "source": [
        "dataset[:1]"
      ],
      "execution_count": 0,
      "outputs": [
        {
          "output_type": "execute_result",
          "data": {
            "text/plain": [
              "array([['shall we start', 'sollen wir beginnen']], dtype='<U370')"
            ]
          },
          "metadata": {
            "tags": []
          },
          "execution_count": 21
        }
      ]
    },
    {
      "metadata": {
        "id": "jUgCgVx4ZT4F",
        "colab_type": "code",
        "outputId": "c11a73ee-a6d5-4fdf-b4bc-d4581aaeadfe",
        "colab": {
          "base_uri": "https://localhost:8080/",
          "height": 34
        }
      },
      "cell_type": "code",
      "source": [
        "raw_dataset[:1]"
      ],
      "execution_count": 0,
      "outputs": [
        {
          "output_type": "execute_result",
          "data": {
            "text/plain": [
              "array([['shall we start', 'sollen wir beginnen']], dtype='<U370')"
            ]
          },
          "metadata": {
            "tags": []
          },
          "execution_count": 22
        }
      ]
    },
    {
      "metadata": {
        "id": "u8onvD9xZWcx",
        "colab_type": "code",
        "outputId": "21fd76ac-1bba-4076-cd35-449286a929f8",
        "colab": {
          "base_uri": "https://localhost:8080/",
          "height": 34
        }
      },
      "cell_type": "code",
      "source": [
        "pairs[:3]"
      ],
      "execution_count": 0,
      "outputs": [
        {
          "output_type": "execute_result",
          "data": {
            "text/plain": [
              "[['Hi.', 'Hallo!'], ['Hi.', 'Grüß Gott!'], ['Run!', 'Lauf!']]"
            ]
          },
          "metadata": {
            "tags": []
          },
          "execution_count": 25
        }
      ]
    },
    {
      "metadata": {
        "id": "rl1Qu1_qbx8g",
        "colab_type": "code",
        "outputId": "c17d2715-833d-463a-8368-b43e40078a0c",
        "colab": {
          "base_uri": "https://localhost:8080/",
          "height": 34
        }
      },
      "cell_type": "code",
      "source": [
        "clean_pairs_1[:2]"
      ],
      "execution_count": 0,
      "outputs": [
        {
          "output_type": "execute_result",
          "data": {
            "text/plain": [
              "[['hi', 'hallo'], ['hi', 'gru gott']]"
            ]
          },
          "metadata": {
            "tags": []
          },
          "execution_count": 27
        }
      ]
    },
    {
      "metadata": {
        "id": "G4xkRGUkcPB8",
        "colab_type": "code",
        "outputId": "04bb7409-65c3-4858-e08f-c9a1d4f38a02",
        "colab": {
          "base_uri": "https://localhost:8080/",
          "height": 51
        }
      },
      "cell_type": "code",
      "source": [
        "clean_pairs[:2]"
      ],
      "execution_count": 0,
      "outputs": [
        {
          "output_type": "execute_result",
          "data": {
            "text/plain": [
              "array([['hi', 'hallo'],\n",
              "       ['hi', 'gru gott']], dtype='<U370')"
            ]
          },
          "metadata": {
            "tags": []
          },
          "execution_count": 29
        }
      ]
    },
    {
      "metadata": {
        "id": "4yD07E91cSIf",
        "colab_type": "code",
        "colab": {}
      },
      "cell_type": "code",
      "source": [
        ""
      ],
      "execution_count": 0,
      "outputs": []
    }
  ]
}